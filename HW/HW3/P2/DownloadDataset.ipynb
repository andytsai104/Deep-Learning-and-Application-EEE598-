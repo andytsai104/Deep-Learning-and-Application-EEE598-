{
 "cells": [
  {
   "cell_type": "markdown",
   "id": "6b31675c-4008-4828-a214-b0f2d4e54063",
   "metadata": {},
   "source": [
    "# 2-2"
   ]
  },
  {
   "cell_type": "code",
   "execution_count": 2,
   "id": "624a1b08-bacc-477b-a58a-e298a957720d",
   "metadata": {},
   "outputs": [
    {
     "data": {
      "text/plain": [
       "1728611476.4145772"
      ]
     },
     "execution_count": 2,
     "metadata": {},
     "output_type": "execute_result"
    }
   ],
   "source": [
    "from torchvision.datasets import Flowers102"
   ]
  },
  {
   "cell_type": "code",
   "execution_count": 6,
   "id": "e0d2cea1-f46c-4532-8a5f-4938545a02e3",
   "metadata": {},
   "outputs": [
    {
     "name": "stdout",
     "output_type": "stream",
     "text": [
      "Downloading https://thor.robots.ox.ac.uk/flowers/102/102flowers.tgz to /home/ctsai67/EEE598/Assignment 3/P2/flowers-102/102flowers.tgz\n"
     ]
    },
    {
     "name": "stderr",
     "output_type": "stream",
     "text": [
      "100%|██████████| 344862509/344862509 [00:16<00:00, 20926793.39it/s]\n"
     ]
    },
    {
     "name": "stdout",
     "output_type": "stream",
     "text": [
      "Extracting /home/ctsai67/EEE598/Assignment 3/P2/flowers-102/102flowers.tgz to /home/ctsai67/EEE598/Assignment 3/P2/flowers-102\n",
      "Downloading https://thor.robots.ox.ac.uk/flowers/102/imagelabels.mat to /home/ctsai67/EEE598/Assignment 3/P2/flowers-102/imagelabels.mat\n"
     ]
    },
    {
     "name": "stderr",
     "output_type": "stream",
     "text": [
      "100%|██████████| 502/502 [00:00<00:00, 1186888.73it/s]\n"
     ]
    },
    {
     "name": "stdout",
     "output_type": "stream",
     "text": [
      "Downloading https://thor.robots.ox.ac.uk/flowers/102/setid.mat to /home/ctsai67/EEE598/Assignment 3/P2/flowers-102/setid.mat\n"
     ]
    },
    {
     "name": "stderr",
     "output_type": "stream",
     "text": [
      "100%|██████████| 14989/14989 [00:00<00:00, 19851096.51it/s]\n"
     ]
    },
    {
     "name": "stdout",
     "output_type": "stream",
     "text": [
      "Complete Download Dataset!!\n"
     ]
    }
   ],
   "source": [
    "root_path = '/home/ctsai67/EEE598/Assignment 3/P2'\n",
    "dataset = Flowers102(root=root_path, download=True)\n",
    "print('Complete Download Dataset!!')\n"
   ]
  }
 ],
 "metadata": {
  "kernelspec": {
   "display_name": "Python 3 (ipykernel)",
   "language": "python",
   "name": "python3"
  },
  "language_info": {
   "codemirror_mode": {
    "name": "ipython",
    "version": 3
   },
   "file_extension": ".py",
   "mimetype": "text/x-python",
   "name": "python",
   "nbconvert_exporter": "python",
   "pygments_lexer": "ipython3",
   "version": "3.11.6"
  }
 },
 "nbformat": 4,
 "nbformat_minor": 5
}
