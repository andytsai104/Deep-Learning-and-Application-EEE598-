{
 "cells": [
  {
   "cell_type": "markdown",
   "metadata": {},
   "source": [
    "## 3-1"
   ]
  },
  {
   "cell_type": "code",
   "execution_count": 71,
   "metadata": {},
   "outputs": [
    {
     "name": "stderr",
     "output_type": "stream",
     "text": [
      "\n",
      "KeyboardInterrupt\n",
      "\n"
     ]
    }
   ],
   "source": [
    "!source activate Tsai\n",
    "!pip install scikit-learn "
   ]
  },
  {
   "cell_type": "code",
   "execution_count": 72,
   "metadata": {},
   "outputs": [],
   "source": [
    "import pandas as pd\n",
    "from torch.utils.data import DataLoader, Dataset\n",
    "import numpy as np\n",
    "import torch.nn as nn\n",
    "import torch.optim as optim\n",
    "import tqdm\n",
    "import torch\n"
   ]
  },
  {
   "cell_type": "markdown",
   "metadata": {},
   "source": [
    "## Load data and find correlation"
   ]
  },
  {
   "cell_type": "markdown",
   "metadata": {},
   "source": [
    "Read .csv file"
   ]
  },
  {
   "cell_type": "code",
   "execution_count": 39,
   "metadata": {},
   "outputs": [
    {
     "name": "stdout",
     "output_type": "stream",
     "text": [
      "House Number: 7129300520\n",
      "House Price: 221900.0\n",
      "House Data Shape: (21613, 21)\n"
     ]
    }
   ],
   "source": [
    "file_path = 'kc_house_data.csv'\n",
    "house_data = pd.read_csv(file_path)\n",
    "\n",
    "house_num = house_data.iloc[0, 0]\n",
    "house_price = house_data.iloc[0, 0:]\n",
    "\n",
    "print('House Number: {}'.format(house_num))\n",
    "print('House Price: {}'.format(house_price['price']))\n",
    "print('House Data Shape: {}'.format(house_data.shape))"
   ]
  },
  {
   "cell_type": "markdown",
   "metadata": {},
   "source": [
    "Get top 5 correlations"
   ]
  },
  {
   "cell_type": "code",
   "execution_count": 40,
   "metadata": {},
   "outputs": [
    {
     "name": "stdout",
     "output_type": "stream",
     "text": [
      "Top 1 correlation: sqft_living and sqft_above with correlation 0.8765967488288879\n",
      "Top 2 correlation: sqft_living and grade with correlation 0.7627040147781372\n",
      "Top 3 correlation: sqft_living and sqft_living15 with correlation 0.7564204335212708\n",
      "Top 4 correlation: grade and sqft_above with correlation 0.7559224963188171\n",
      "Top 5 correlation: bathrooms and sqft_living with correlation 0.7546652555465698\n"
     ]
    }
   ],
   "source": [
    "# Find the correlation between data\n",
    "numeric_data = house_data.select_dtypes(include=[float, int]).values\n",
    "data_tensor = torch.tensor(numeric_data, dtype=torch.float32)\n",
    "corr_matrix = torch.corrcoef(data_tensor.T)\n",
    "\n",
    "# Remove self-correlation and repeated correlations\n",
    "corr_matrix = torch.triu(corr_matrix, diagonal=1)\n",
    "\n",
    "# Flatten the correlation\n",
    "flat_corr = corr_matrix.flatten()\n",
    "\n",
    "# Get the indices of top 5 correlation\n",
    "top5_corr_indices = torch.topk(flat_corr.abs(), 5).indices\n",
    "# print(top5_corr_indices)\n",
    "\n",
    "# convert the indices to 2D matrix indices\n",
    "row_idx = top5_corr_indices // data_tensor.shape[1]\n",
    "col_idx = top5_corr_indices % data_tensor.shape[1]\n",
    "\n",
    "# Get the indices of top 5 correlations\n",
    "top5_corr = flat_corr[top5_corr_indices]\n",
    "top5_feature_pairs = list(zip(row_idx.tolist(), col_idx.tolist()))\n",
    "\n",
    "# Get the name of top 5 correlations\n",
    "# Get the column names from the house_data DataFrame\n",
    "column_names = house_data.select_dtypes(include=[float, int]).columns\n",
    "\n",
    "# Get the top 5 feature pairs with their corresponding names\n",
    "top5_feature_pairs_names = [(column_names[row], column_names[col]) for row, col in top5_feature_pairs]\n",
    "for i, (feature1, feature2) in enumerate(top5_feature_pairs_names):\n",
    "    print(f\"Top {i+1} correlation: {feature1} and {feature2} with correlation {top5_corr[i].item()}\")"
   ]
  },
  {
   "cell_type": "markdown",
   "metadata": {},
   "source": [
    "Get top 5 correlations with Price"
   ]
  },
  {
   "cell_type": "code",
   "execution_count": 41,
   "metadata": {},
   "outputs": [
    {
     "name": "stdout",
     "output_type": "stream",
     "text": [
      "Top 5 correlations with 'price':\n",
      "'sqft_living' with correlation 0.58\n",
      "'bathrooms' with correlation 0.52\n",
      "'sqft_above' with correlation 0.48\n",
      "'sqft_living15' with correlation 0.39\n",
      "'grade' with correlation 0.36\n"
     ]
    }
   ],
   "source": [
    "import torch\n",
    "\n",
    "# Assuming 'Price' is one of the columns in house_data\n",
    "price_idx = house_data.columns.get_loc('price')\n",
    "\n",
    "# Select numeric data and convert to tensor\n",
    "numeric_data = house_data.select_dtypes(include=[float, int]).values\n",
    "data_tensor = torch.tensor(numeric_data, dtype=torch.float32)\n",
    "\n",
    "# Calculate the correlation matrix\n",
    "corr_matrix = torch.corrcoef(data_tensor.T)\n",
    "\n",
    "# Extract correlations involving 'Price' (excluding self-correlation)\n",
    "price_correlations = corr_matrix[price_idx, :]\n",
    "price_correlations[price_idx] = 0  # Set self-correlation to 0\n",
    "\n",
    "# Get the top 5 correlations with 'Price'\n",
    "top5_corr_indices = torch.topk(price_correlations.abs(), 5).indices\n",
    "\n",
    "# Get the top 5 correlations and their values\n",
    "top5_corr = price_correlations[top5_corr_indices]\n",
    "\n",
    "# Get the column names from house_data\n",
    "column_names = house_data.select_dtypes(include=[float, int]).columns\n",
    "\n",
    "feature_names = [column_names[(int(i))] for i in top5_corr_indices]\n",
    "\n",
    "# Print the top 5 correlations with 'Price'\n",
    "print(\"Top 5 correlations with 'price':\")\n",
    "for i, feature in enumerate(feature_names):\n",
    "    print(f\"'{feature}' with correlation {round(top5_corr[i].item(), 2)}\")\n"
   ]
  },
  {
   "cell_type": "markdown",
   "metadata": {},
   "source": [
    "Construct custom dataset class to be used with Torch"
   ]
  },
  {
   "cell_type": "code",
   "execution_count": 42,
   "metadata": {},
   "outputs": [],
   "source": [
    "class HousePricesDataset(Dataset):\n",
    "    \"\"\"House Prices dataset.\"\"\"\n",
    "\n",
    "    def __init__(self, csv_file, transform=None):\n",
    "        \"\"\"\n",
    "        Arguments:\n",
    "            csv_file (string): Path to the csv file with data.\n",
    "            transform (callable, optional): Optional transform to be applied\n",
    "                on a sample.\n",
    "        \"\"\"\n",
    "        self.house_data = pd.read_csv(csv_file)\n",
    "        self.transform = transform\n",
    "\n",
    "    def __len__(self):\n",
    "        return len(self.house_data)\n",
    "\n",
    "    def __getitem__(self, idx):\n",
    "        if torch.is_tensor(idx):\n",
    "            idx = idx.tolist()\n",
    "\n",
    "        house = self.house_data.iloc[idx, 0:]\n",
    "        #house['Price'] = np.array([house['Price']])\n",
    "        #sample = house.to_dict()\n",
    "        sample = np.array([house['sqft_living'], house['bathrooms'], house['sqft_above'], house['sqft_living15'], house['grade'], house['price']], dtype=np.float32)\n",
    "\n",
    "        if self.transform:\n",
    "            sample = self.transform(sample)\n",
    "\n",
    "        return sample"
   ]
  },
  {
   "cell_type": "markdown",
   "metadata": {},
   "source": [
    "Split dataset"
   ]
  },
  {
   "cell_type": "code",
   "execution_count": 78,
   "metadata": {
    "scrolled": true
   },
   "outputs": [
    {
     "name": "stdout",
     "output_type": "stream",
     "text": [
      "[9.9000e+02 1.0000e+00 9.9000e+02 1.2600e+03 7.0000e+00 1.7325e+05]\n"
     ]
    }
   ],
   "source": [
    "import torch.utils\n",
    "\n",
    "\n",
    "house_dataset = HousePricesDataset(csv_file=file_path)\n",
    "data_train, data_test, data_val = torch.utils.data.random_split(house_dataset, [0.7, 0.2, 0.1])\n",
    "# print(\"Length of taining data:\", len(data_train))\n",
    "# print(\"Length of test data:\", len(data_test))\n",
    "# print(\"Length of validation data:\", len(data_val))\n",
    "\n",
    "# for i, sample in enumerate(data_val):\n",
    "    # print(i, len(sample))\n",
    "print(sample)"
   ]
  },
  {
   "cell_type": "code",
   "execution_count": 79,
   "metadata": {},
   "outputs": [],
   "source": [
    "dataloader_train = DataLoader(data_train, batch_size=5, shuffle=True, num_workers=0)\n",
    "dataloader_test = DataLoader(data_test, batch_size=len(data_test), shuffle=True, num_workers=0)\n",
    "dataloader_val = DataLoader(data_val, batch_size=5, shuffle=True, num_workers=0)"
   ]
  },
  {
   "cell_type": "markdown",
   "metadata": {},
   "source": [
    "Helper function to show a batch"
   ]
  },
  {
   "cell_type": "code",
   "execution_count": 80,
   "metadata": {},
   "outputs": [
    {
     "name": "stdout",
     "output_type": "stream",
     "text": [
      "tensor([[7.0000e+02, 1.0000e+00, 7.0000e+02, 1.2500e+03, 5.0000e+00, 1.7500e+05],\n",
      "        [1.0900e+03, 1.0000e+00, 1.0900e+03, 1.7200e+03, 7.0000e+00, 3.0000e+05],\n",
      "        [1.9300e+03, 1.7500e+00, 1.4500e+03, 1.2800e+03, 7.0000e+00, 7.3300e+05],\n",
      "        [2.1400e+03, 2.7500e+00, 1.1900e+03, 2.1400e+03, 7.0000e+00, 6.2500e+05],\n",
      "        [2.1300e+03, 1.7500e+00, 1.3700e+03, 1.7500e+03, 8.0000e+00, 3.3850e+05]])\n",
      "0 5\n",
      "tensor([[3.1800e+03, 2.5000e+00, 2.1200e+03, 2.7000e+03, 8.0000e+00, 5.2300e+05],\n",
      "        [2.1300e+03, 2.2500e+00, 1.8300e+03, 2.1300e+03, 8.0000e+00, 7.7900e+05],\n",
      "        [2.1600e+03, 2.2500e+00, 1.3600e+03, 2.0900e+03, 8.0000e+00, 2.6000e+05],\n",
      "        [1.7200e+03, 2.5000e+00, 1.7200e+03, 1.7200e+03, 7.0000e+00, 3.8970e+05],\n",
      "        [9.2000e+02, 1.0000e+00, 9.2000e+02, 1.2800e+03, 6.0000e+00, 2.0200e+05]])\n",
      "1 5\n",
      "tensor([[1.8100e+03, 1.5000e+00, 1.0500e+03, 1.3000e+03, 5.0000e+00, 2.3000e+05],\n",
      "        [2.6600e+03, 1.7500e+00, 2.6600e+03, 1.9800e+03, 8.0000e+00, 5.5700e+05],\n",
      "        [1.8900e+03, 2.5000e+00, 1.8900e+03, 2.0300e+03, 7.0000e+00, 2.9850e+05],\n",
      "        [1.9200e+03, 2.2500e+00, 1.9200e+03, 1.9500e+03, 8.0000e+00, 3.4500e+05],\n",
      "        [2.6700e+03, 1.7500e+00, 2.6700e+03, 2.1900e+03, 8.0000e+00, 4.0000e+05]])\n",
      "2 5\n",
      "tensor([[1.5700e+03, 2.0000e+00, 1.5700e+03, 1.7600e+03, 8.0000e+00, 8.3500e+05],\n",
      "        [1.3500e+03, 1.7500e+00, 1.3500e+03, 1.4700e+03, 7.0000e+00, 2.4125e+05],\n",
      "        [1.5800e+03, 1.7500e+00, 7.9000e+02, 1.1800e+03, 6.0000e+00, 3.5900e+05],\n",
      "        [1.5000e+03, 3.0000e+00, 1.1200e+03, 1.7200e+03, 8.0000e+00, 4.0800e+05],\n",
      "        [1.6900e+03, 1.7500e+00, 1.0600e+03, 1.5800e+03, 7.0000e+00, 1.9700e+05]])\n",
      "3 5\n"
     ]
    },
    {
     "data": {
      "image/png": "[encoded data removed]",
      "text/plain": [
       "<Figure size 640x480 with 1 Axes>"
      ]
     },
     "metadata": {},
     "output_type": "display_data"
    }
   ],
   "source": [
    "import matplotlib.pyplot as plt\n",
    "\n",
    "def show_houses_batch(sample_batched):\n",
    "    \"\"\"Show house records for a batch of samples.\"\"\"\n",
    "    houses_batch = sample_batched\n",
    "    batch_size = len(houses_batch) # This shows the number of houses in a single batch\n",
    "    record_size = houses_batch.size(1) # This shows the dimensions of data for a single house\n",
    "\n",
    "    for i in range(batch_size):\n",
    "        plt.scatter(i, houses_batch[i, 4].numpy(), marker='.', c='r')\n",
    "\n",
    "        plt.title('Batch from dataloader')\n",
    "\n",
    "for i_batch, sample_batched in enumerate(dataloader_train):\n",
    "    print(sample_batched)\n",
    "    print(i_batch, len(sample_batched))\n",
    "\n",
    "    # observe 4th batch and stop.\n",
    "    if i_batch == 3:\n",
    "        plt.figure()\n",
    "        show_houses_batch(sample_batched)\n",
    "        plt.ioff()\n",
    "        plt.show()\n",
    "        break"
   ]
  },
  {
   "cell_type": "markdown",
   "metadata": {},
   "source": [
    "## Create the Neural Network"
   ]
  },
  {
   "cell_type": "code",
   "execution_count": 81,
   "metadata": {},
   "outputs": [
    {
     "name": "stdout",
     "output_type": "stream",
     "text": [
      "cuda\n"
     ]
    }
   ],
   "source": [
    "device = \"cuda\" if torch.cuda.is_available() else \"cpu\"\n",
    "print(device)"
   ]
  },
  {
   "cell_type": "markdown",
   "metadata": {},
   "source": [
    "Create MPL structure"
   ]
  },
  {
   "cell_type": "code",
   "execution_count": 82,
   "metadata": {},
   "outputs": [],
   "source": [
    "class NeuralNetwork(nn.Module):\n",
    "    def __init__(self):\n",
    "        super().__init__()\n",
    "        self.linear_relu_stack = nn.Sequential(\n",
    "            nn.Linear(5, 20),\n",
    "            nn.ReLU(),\n",
    "            nn.Linear(20, 50),\n",
    "            nn.ReLU(),\n",
    "            nn.Linear(50, 20),\n",
    "            nn.ReLU(),\n",
    "            nn.Linear(20, 5),\n",
    "            nn.ReLU(),\n",
    "            nn.Linear(5, 1)\n",
    "        )\n",
    "    \n",
    "    def forward(self, x):\n",
    "        logits = self.linear_relu_stack(x)\n",
    "        return logits"
   ]
  },
  {
   "cell_type": "markdown",
   "metadata": {},
   "source": [
    "Define Model"
   ]
  },
  {
   "cell_type": "code",
   "execution_count": 52,
   "metadata": {},
   "outputs": [
    {
     "name": "stdout",
     "output_type": "stream",
     "text": [
      "NeuralNetwork(\n",
      "  (linear_relu_stack): Sequential(\n",
      "    (0): Linear(in_features=5, out_features=20, bias=True)\n",
      "    (1): ReLU()\n",
      "    (2): Linear(in_features=20, out_features=50, bias=True)\n",
      "    (3): ReLU()\n",
      "    (4): Linear(in_features=50, out_features=20, bias=True)\n",
      "    (5): ReLU()\n",
      "    (6): Linear(in_features=20, out_features=5, bias=True)\n",
      "    (7): ReLU()\n",
      "    (8): Linear(in_features=5, out_features=1, bias=True)\n",
      "  )\n",
      ")\n"
     ]
    }
   ],
   "source": [
    "model = NeuralNetwork().to(device)\n",
    "print(model)"
   ]
  },
  {
   "cell_type": "markdown",
   "metadata": {},
   "source": [
    "## Training, Testing and Validating"
   ]
  },
  {
   "cell_type": "markdown",
   "metadata": {},
   "source": [
    "Define loss function, learning rate, and optimizer"
   ]
  },
  {
   "cell_type": "code",
   "execution_count": 53,
   "metadata": {},
   "outputs": [],
   "source": [
    "# loss function and optimizer\n",
    "loss_fn = nn.MSELoss()  # mean square error\n",
    "#loss_fn = nn.L1Loss() # mean absolute error\n",
    "learning_rate = 0.00001\n",
    "optimizer = optim.Adam(model.parameters(), lr=learning_rate)"
   ]
  },
  {
   "cell_type": "code",
   "execution_count": 56,
   "metadata": {},
   "outputs": [
    {
     "name": "stdout",
     "output_type": "stream",
     "text": [
      "Epoch: 0, Loss: 121169494016.0\n",
      "Epoch: 10, Loss: 73921839104.0\n",
      "Epoch: 20, Loss: 73793601536.0\n",
      "Epoch: 30, Loss: 73654706176.0\n",
      "Epoch: 40, Loss: 73542320128.0\n",
      "Epoch: 50, Loss: 73416769536.0\n",
      "Epoch: 60, Loss: 73311805440.0\n",
      "Epoch: 70, Loss: 73186344960.0\n",
      "Epoch: 80, Loss: 73068838912.0\n",
      "Epoch: 90, Loss: 72949219328.0\n",
      "MSE: 72849981440.00\n",
      "RMSE: 269907.36\n"
     ]
    },
    {
     "data": {
      "image/png": "[encoded data removed]",
      "text/plain": [
       "<Figure size 640x480 with 1 Axes>"
      ]
     },
     "metadata": {},
     "output_type": "display_data"
    }
   ],
   "source": [
    "import copy\n",
    "import tqdm\n",
    "\n",
    "epochs = 100\n",
    "batch_start = torch.arange(0, len(dataloader_train))\n",
    "best_mse = np.inf   # init to infinity\n",
    "# best_weights = None\n",
    "history = []\n",
    "\n",
    "for epoch in range(epochs):\n",
    "    model.train().to(device)\n",
    "    with tqdm.tqdm(batch_start, unit=\"batch\", mininterval=0, disable=True) as bar:\n",
    "        bar.set_description(f\"Epoch {epoch}\")\n",
    "        for i_batch, sample_batched in enumerate(dataloader_train):\n",
    "            sample_batched_X = sample_batched[:, :5].to(device)\n",
    "            sample_batched_Y = sample_batched[:, 5:].to(device)\n",
    "\n",
    "            # take a batch\n",
    "            pred = model(sample_batched_X)\n",
    "\n",
    "            # forward pass\n",
    "            loss = loss_fn(pred, sample_batched_Y)\n",
    "\n",
    "            # backward pass\n",
    "            optimizer.zero_grad()\n",
    "            loss.backward()\n",
    "\n",
    "            # update weights\n",
    "            optimizer.step()\n",
    "\n",
    "            # print progress\n",
    "            bar.set_postfix(mse=float(loss))\n",
    "\n",
    "    # evaluate accuracy at end of each epoch\n",
    "    model.eval()\n",
    "    for i_batch, sample_batched in enumerate(dataloader_test):\n",
    "      sample_batched_X = sample_batched[:, :5].to(device)\n",
    "      sample_batched_Y = sample_batched[:, 5:].to(device)\n",
    "\n",
    "      y_pred = model(sample_batched_X)\n",
    "      mse = loss_fn(y_pred, sample_batched_Y)\n",
    "      mse = float(mse)\n",
    "      history.append(mse)\n",
    "      if mse < best_mse:\n",
    "          best_mse = mse\n",
    "          # best_weights = copy.deepcopy(model.state_dict())\n",
    "    \n",
    "    if (epoch%10) == 0:\n",
    "                print(f\"Epoch: {epoch}, Loss: {round(mse, 3)}\")\n",
    "\n",
    "# restore model and return best accuracy\n",
    "# model.load_state_dict(best_weights)\n",
    "print(\"MSE: %.2f\" % best_mse)\n",
    "print(\"RMSE: %.2f\" % np.sqrt(best_mse))\n",
    "plt.plot(history)\n",
    "plt.show()"
   ]
  },
  {
   "cell_type": "code",
   "execution_count": 57,
   "metadata": {},
   "outputs": [
    {
     "name": "stdout",
     "output_type": "stream",
     "text": [
      "Best Validation MSE: 71606951936.0000\n",
      "Best Validation RMSE: 267594.7532\n"
     ]
    },
    {
     "data": {
      "image/png": "[encoded data removed]",
      "text/plain": [
       "<Figure size 640x480 with 1 Axes>"
      ]
     },
     "metadata": {},
     "output_type": "display_data"
    }
   ],
   "source": [
    "import copy\n",
    "import torch\n",
    "import tqdm\n",
    "import numpy as np\n",
    "import matplotlib.pyplot as plt\n",
    "\n",
    "epochs = 100\n",
    "batch_start = torch.arange(0, len(dataloader_train))\n",
    "best_mse = np.inf  # Initialize to infinity\n",
    "best_weights = None\n",
    "history_train = []  # Track training loss\n",
    "history_val = []    # Track validation loss\n",
    "\n",
    "for epoch in range(epochs):\n",
    "    model.train()  # Set the model to training mode\n",
    "    train_loss = 0.0  # Initialize train loss for this epoch\n",
    "    with tqdm.tqdm(batch_start, unit=\"batch\", mininterval=0, disable=True) as bar:\n",
    "        bar.set_description(f\"Epoch {epoch}\")\n",
    "        for i_batch, sample_batched in enumerate(dataloader_train):\n",
    "            sample_batched_X = sample_batched[:, :5].to(device)\n",
    "            sample_batched_Y = sample_batched[:, 5:].to(device)\n",
    "\n",
    "            # Forward pass\n",
    "            pred = model(sample_batched_X)\n",
    "            loss = loss_fn(pred, sample_batched_Y)\n",
    "\n",
    "            # Backward pass and update weights\n",
    "            optimizer.zero_grad()\n",
    "            loss.backward()\n",
    "            optimizer.step()\n",
    "\n",
    "            # Track training loss\n",
    "            train_loss += float(loss)  # Accumulate batch loss\n",
    "            bar.set_postfix(mse=float(loss))  # Show current batch loss in progress bar\n",
    "    \n",
    "    # Calculate the average training loss for this epoch\n",
    "    avg_train_loss = train_loss / len(dataloader_train)\n",
    "    history_train.append(avg_train_loss)\n",
    "\n",
    "    # Validation phase (no weight updates, so disable gradients)\n",
    "    model.eval()  # Set the model to evaluation mode\n",
    "    val_loss = 0.0  # Initialize validation loss for this epoch\n",
    "    with torch.no_grad():  # No gradient calculation needed during validation\n",
    "        for i_batch, sample_batched in enumerate(dataloader_test):\n",
    "            sample_batched_X = sample_batched[:, :5].to(device)\n",
    "            sample_batched_Y = sample_batched[:, 5:].to(device)\n",
    "\n",
    "            # Forward pass (validation)\n",
    "            y_pred = model(sample_batched_X)\n",
    "            mse = loss_fn(y_pred, sample_batched_Y)\n",
    "\n",
    "            # Accumulate validation loss\n",
    "            val_loss += float(mse)\n",
    "    \n",
    "    # Calculate the average validation loss for this epoch\n",
    "    avg_val_loss = val_loss / len(dataloader_test)\n",
    "    history_val.append(avg_val_loss)\n",
    "\n",
    "    # Print training and validation loss for this epoch\n",
    "    # print(f\"Epoch {epoch + 1}/{epochs} - Training MSE: {avg_train_loss:.4f}, Validation MSE: {avg_val_loss:.4f}\")\n",
    "\n",
    "    # Save the best model based on validation MSE\n",
    "    if avg_val_loss < best_mse:\n",
    "        best_mse = avg_val_loss\n",
    "        # best_weights = copy.deepcopy(model.state_dict())\n",
    "\n",
    "# Restore the model with the best weights (based on validation MSE)\n",
    "# model.load_state_dict(best_weights)\n",
    "\n",
    "# Print final results\n",
    "print(f\"Best Validation MSE: {best_mse:.4f}\")\n",
    "print(f\"Best Validation RMSE: {np.sqrt(best_mse):.4f}\")\n",
    "\n",
    "# Plot training and validation loss over epochs\n",
    "plt.plot(history_train, label='Training MSE')\n",
    "plt.plot(history_val, label='Validation MSE')\n",
    "plt.xlabel('Epoch')\n",
    "plt.ylabel('MSE')\n",
    "plt.title('Training and Validation Loss')\n",
    "plt.legend()\n",
    "plt.show()"
   ]
  },
  {
   "cell_type": "markdown",
   "metadata": {},
   "source": [
    "KAN model training"
   ]
  },
  {
   "cell_type": "code",
   "execution_count": 83,
   "metadata": {},
   "outputs": [
    {
     "name": "stdout",
     "output_type": "stream",
     "text": [
      "Defaulting to user installation because normal site-packages is not writeable\n",
      "Requirement already satisfied: pykan in /home/ctsai67/.local/lib/python3.11/site-packages (0.2.7)\n",
      "Defaulting to user installation because normal site-packages is not writeable\n",
      "Requirement already satisfied: scikit-learn in /packages/apps/jupyter/2023-10-09/lib/python3.11/site-packages (1.3.1)\n",
      "Requirement already satisfied: numpy<2.0,>=1.17.3 in /packages/apps/jupyter/2023-10-09/lib/python3.11/site-packages (from scikit-learn) (1.26.0)\n",
      "Requirement already satisfied: scipy>=1.5.0 in /packages/apps/jupyter/2023-10-09/lib/python3.11/site-packages (from scikit-learn) (1.11.3)\n",
      "Requirement already satisfied: joblib>=1.1.1 in /packages/apps/jupyter/2023-10-09/lib/python3.11/site-packages (from scikit-learn) (1.3.2)\n",
      "Requirement already satisfied: threadpoolctl>=2.0.0 in /packages/apps/jupyter/2023-10-09/lib/python3.11/site-packages (from scikit-learn) (3.2.0)\n"
     ]
    }
   ],
   "source": [
    "!source activate Tsai\n",
    "!pip install pykan\n",
    "!pip install scikit-learn"
   ]
  },
  {
   "cell_type": "code",
   "execution_count": 85,
   "metadata": {},
   "outputs": [
    {
     "name": "stdout",
     "output_type": "stream",
     "text": [
      "checkpoint directory created: ./model\n",
      "saving model version 0.0\n",
      "MultKAN(\n",
      "  (act_fun): ModuleList(\n",
      "    (0-1): 2 x KANLayer(\n",
      "      (base_fun): SiLU()\n",
      "    )\n",
      "  )\n",
      "  (base_fun): SiLU()\n",
      "  (symbolic_fun): ModuleList(\n",
      "    (0-1): 2 x Symbolic_KANLayer()\n",
      "  )\n",
      ")\n"
     ]
    }
   ],
   "source": [
    "from kan import *\n",
    "kan_model = KAN(width=[1, 2, 1], grid=5, k=3, seed=2, device=device)\n",
    "# kan_model.plot()\n",
    "print(kan_model)"
   ]
  },
  {
   "cell_type": "markdown",
   "metadata": {},
   "source": [
    "Define loss function, learning rate, and optimizer"
   ]
  },
  {
   "cell_type": "code",
   "execution_count": 88,
   "metadata": {},
   "outputs": [],
   "source": [
    "# loss function and optimizer\n",
    "loss_fn = nn.MSELoss()  # mean square error\n",
    "#loss_fn = nn.L1Loss() # mean absolute error\n",
    "learning_rate = 0.00001\n",
    "optimizer = optim.Adam(kan_model.parameters(), lr=learning_rate)"
   ]
  },
  {
   "cell_type": "code",
   "execution_count": 89,
   "metadata": {},
   "outputs": [
    {
     "name": "stdout",
     "output_type": "stream",
     "text": [
      "Best Validation MSE: 421431410688.0000\n",
      "Best Validation RMSE: 649177.4878\n"
     ]
    },
    {
     "data": {
      "image/png": "[encoded data removed]",
      "text/plain": [
       "<Figure size 640x480 with 1 Axes>"
      ]
     },
     "metadata": {},
     "output_type": "display_data"
    }
   ],
   "source": [
    "import copy\n",
    "import torch\n",
    "import tqdm\n",
    "import numpy as np\n",
    "import matplotlib.pyplot as plt\n",
    "\n",
    "epochs = 100\n",
    "batch_start = torch.arange(0, len(dataloader_train))\n",
    "best_mse = np.inf  # Initialize to infinity\n",
    "best_weights = None\n",
    "history_train = []  # Track training loss\n",
    "history_val = []    # Track validation loss\n",
    "\n",
    "for epoch in range(epochs):\n",
    "    kan_model.train()  # Set the model to training mode\n",
    "    train_loss = 0.0  # Initialize train loss for this epoch\n",
    "    with tqdm.tqdm(batch_start, unit=\"batch\", mininterval=0, disable=True) as bar:\n",
    "        bar.set_description(f\"Epoch {epoch}\")\n",
    "        for i_batch, sample_batched in enumerate(dataloader_train):\n",
    "            sample_batched_X = sample_batched[:, :5].to(device)\n",
    "            sample_batched_Y = sample_batched[:, 5:].to(device)\n",
    "\n",
    "            # Forward pass\n",
    "            pred = kan_model(sample_batched_X)\n",
    "            loss = loss_fn(pred, sample_batched_Y)\n",
    "\n",
    "            # Backward pass and update weights\n",
    "            optimizer.zero_grad()\n",
    "            loss.backward()\n",
    "            optimizer.step()\n",
    "\n",
    "            # Track training loss\n",
    "            train_loss += float(loss)  # Accumulate batch loss\n",
    "            bar.set_postfix(mse=float(loss))  # Show current batch loss in progress bar\n",
    "    \n",
    "    # Calculate the average training loss for this epoch\n",
    "    avg_train_loss = train_loss / len(dataloader_train)\n",
    "    history_train.append(avg_train_loss)\n",
    "\n",
    "    # Validation phase (no weight updates, so disable gradients)\n",
    "    kan_model.eval()  # Set the model to evaluation mode\n",
    "    val_loss = 0.0  # Initialize validation loss for this epoch\n",
    "    with torch.no_grad():  # No gradient calculation needed during validation\n",
    "        for i_batch, sample_batched in enumerate(dataloader_test):\n",
    "            sample_batched_X = sample_batched[:, :5].to(device)\n",
    "            sample_batched_Y = sample_batched[:, 5:].to(device)\n",
    "\n",
    "            # Forward pass (validation)\n",
    "            y_pred = kan_model(sample_batched_X)\n",
    "            mse = loss_fn(y_pred, sample_batched_Y)\n",
    "\n",
    "            # Accumulate validation loss\n",
    "            val_loss += float(mse)\n",
    "    \n",
    "    # Calculate the average validation loss for this epoch\n",
    "    avg_val_loss = val_loss / len(dataloader_test)\n",
    "    history_val.append(avg_val_loss)\n",
    "\n",
    "    # Print training and validation loss for this epoch\n",
    "    # print(f\"Epoch {epoch + 1}/{epochs} - Training MSE: {avg_train_loss:.4f}, Validation MSE: {avg_val_loss:.4f}\")\n",
    "\n",
    "    # Save the best model based on validation MSE\n",
    "    if avg_val_loss < best_mse:\n",
    "        best_mse = avg_val_loss\n",
    "        best_weights = copy.deepcopy(model.state_dict())\n",
    "\n",
    "# # Restore the model with the best weights (based on validation MSE)\n",
    "# kan_model.load_state_dict(best_weights)\n",
    "\n",
    "# Print final results\n",
    "print(f\"Best Validation MSE: {best_mse:.4f}\")\n",
    "print(f\"Best Validation RMSE: {np.sqrt(best_mse):.4f}\")\n",
    "\n",
    "# Plot training and validation loss over epochs\n",
    "plt.plot(history_train, label='Training MSE')\n",
    "plt.plot(history_val, label='Validation MSE')\n",
    "plt.xlabel('Epoch')\n",
    "plt.ylabel('MSE')\n",
    "plt.title('Training and Validation Loss')\n",
    "plt.legend()\n",
    "plt.show()"
   ]
  }
 ],
 "metadata": {
  "kernelspec": {
   "display_name": "Tsai",
   "language": "python",
   "name": "tsai"
  },
  "language_info": {
   "codemirror_mode": {
    "name": "ipython",
    "version": 3
   },
   "file_extension": ".py",
   "mimetype": "text/x-python",
   "name": "python",
   "nbconvert_exporter": "python",
   "pygments_lexer": "ipython3",
   "version": "3.11.9"
  }
 },
 "nbformat": 4,
 "nbformat_minor": 4
}
